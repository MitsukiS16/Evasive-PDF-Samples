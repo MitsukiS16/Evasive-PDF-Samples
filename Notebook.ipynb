{
 "cells": [
  {
   "cell_type": "markdown",
   "metadata": {},
   "source": [
    "# Evasive PDF Samples\n",
    "\n",
    "Based on https://www.kaggle.com/datasets/fouadtrad2/evasive-pdf-samples"
   ]
  },
  {
   "cell_type": "markdown",
   "metadata": {},
   "source": [
    "### 1.1. What's the content of the dataset? "
   ]
  },
  {
   "cell_type": "markdown",
   "metadata": {},
   "source": [
    "This dataset is a collection of evasive PDF samples, labeled as malicious (1) or benign (0). Since the dataset has an evasive nature, it can be used to test the robustness of trained PDF malware classifiers against evasion attacks. The dataset contains 500,000 generated evasive samples, including 450,000 malicious and 50,000 benign PDFs. "
   ]
  },
  {
   "cell_type": "markdown",
   "metadata": {},
   "source": [
    "### 1.2. Dataset columns explanation "
   ]
  },
  {
   "cell_type": "markdown",
   "metadata": {},
   "source": [
    "1. **pdfsize** - The PDF size in Megabytes\n",
    "2. **pages** - Pages\n",
    "3. **title characters** - The number of characters in the title\n",
    "4. **Images** - The number of images\n",
    "5. **obj** - The number of keywords /obj\n",
    "6. **endobj** - The number of keywords /endobj\n",
    "7. **stream** - The number of keywords /stream\n",
    "8. **endstream** - The number of keywords /endstream\n",
    "9. **xref** - The number of xref tables\n",
    "10. **trailer** - The number of keywords /trailer\n",
    "11. **startxref** - The number of keywords /startxref\n",
    "12. **ObjStm** - The number of keywords /Objstm (Object Streams)\n",
    "13. **JS** - The number of keywords /JS\n",
    "14. **OBS_JS** - The number of keywords /JS (obfuscated)\n",
    "15. **Javascript** - The number of keywords /Javascript\n",
    "16. **OBS_Javascript** - The number of keywords /Javascript (obfuscated)\n",
    "17. **OpenAction** - The number of keywords /OpenAction\n",
    "18. **OBS_OpenAction** - The number of keywords /OpenAction (obfuscated)\n",
    "19. **Acroform** - The number of keywords /Acroform\n",
    "20. **OBS_Acroform** - The number of keywords /Acroform (obfuscated)\n",
    "21. **class** - Benign (0) or malicious (1)"
   ]
  },
  {
   "cell_type": "markdown",
   "metadata": {},
   "source": [
    "### 1.3. ML models planned to use "
   ]
  },
  {
   "cell_type": "markdown",
   "metadata": {},
   "source": [
    "1. **Decision Tree** - Are relatively fast to train and can handle large datasets, which makes them suitable for this problem.\n",
    "2. **K-Nearest Neighbours (KNN)** - Can handle non-linear data and does not make assumptions about the distribution of the data.\n",
    "3. **Neural Networks** - Can be used for both classification and regression tasks, and can often achieve high levels of accuracy with appropriate training."
   ]
  },
  {
   "cell_type": "markdown",
   "metadata": {},
   "source": [
    "## 2. Imports the libraries\n",
    "\n",
    "We start by importing the dependencies: Gymnasium, numpy, and random."
   ]
  },
  {
   "cell_type": "code",
   "execution_count": 1,
   "metadata": {},
   "outputs": [],
   "source": [
    "import numpy as np\n",
    "import pandas as pd\n",
    "import random\n",
    "import warnings\n",
    "import seaborn as sb\n",
    "import matplotlib.pyplot as plt\n"
   ]
  },
  {
   "cell_type": "markdown",
   "metadata": {},
   "source": [
    "### 2.1. Define Helper Functions \n",
    "\n",
    "Here we'll find functions that calculate and get metrics about the dataset"
   ]
  },
  {
   "cell_type": "code",
   "execution_count": 2,
   "metadata": {},
   "outputs": [],
   "source": [
    "def calculateMeanPageSize(sample):\n",
    "    total_page_size = sum(pdf.pdfsize for pdf in sample)\n",
    "    mean_page_size = total_page_size / len(sample)\n",
    "    return int(mean_page_size)"
   ]
  },
  {
   "cell_type": "code",
   "execution_count": 3,
   "metadata": {},
   "outputs": [],
   "source": [
    "def write_dataset(sample):\n",
    "    data = {\n",
    "        'nLines': [len(p)],\n",
    "        'MeanPages': [calculateMeanPageSize(sample)]\n",
    "    }\n",
    "    df = pd.DataFrame(data)\n",
    "    \n",
    "    # Print the DataFrame\n",
    "    print(df)"
   ]
  },
  {
   "cell_type": "markdown",
   "metadata": {},
   "source": [
    "## 3. Importing datasets"
   ]
  },
  {
   "cell_type": "code",
   "execution_count": 4,
   "metadata": {},
   "outputs": [
    {
     "name": "stdout",
     "output_type": "stream",
     "text": [
      "There are 500000 samples.\n"
     ]
    },
    {
     "data": {
      "text/html": [
       "<div>\n",
       "<style scoped>\n",
       "    .dataframe tbody tr th:only-of-type {\n",
       "        vertical-align: middle;\n",
       "    }\n",
       "\n",
       "    .dataframe tbody tr th {\n",
       "        vertical-align: top;\n",
       "    }\n",
       "\n",
       "    .dataframe thead th {\n",
       "        text-align: right;\n",
       "    }\n",
       "</style>\n",
       "<table border=\"1\" class=\"dataframe\">\n",
       "  <thead>\n",
       "    <tr style=\"text-align: right;\">\n",
       "      <th></th>\n",
       "      <th>pdfsize</th>\n",
       "      <th>pages</th>\n",
       "      <th>title characters</th>\n",
       "      <th>images</th>\n",
       "      <th>obj</th>\n",
       "      <th>endobj</th>\n",
       "      <th>stream</th>\n",
       "      <th>endstream</th>\n",
       "      <th>xref</th>\n",
       "      <th>trailer</th>\n",
       "      <th>...</th>\n",
       "      <th>ObjStm</th>\n",
       "      <th>JS</th>\n",
       "      <th>OBS_JS</th>\n",
       "      <th>Javascript</th>\n",
       "      <th>OBS_Javascript</th>\n",
       "      <th>OpenAction</th>\n",
       "      <th>OBS_OpenAction</th>\n",
       "      <th>Acroform</th>\n",
       "      <th>OBS_Acroform</th>\n",
       "      <th>class</th>\n",
       "    </tr>\n",
       "  </thead>\n",
       "  <tbody>\n",
       "    <tr>\n",
       "      <th>0</th>\n",
       "      <td>644.326</td>\n",
       "      <td>70</td>\n",
       "      <td>0</td>\n",
       "      <td>1</td>\n",
       "      <td>348</td>\n",
       "      <td>351</td>\n",
       "      <td>128</td>\n",
       "      <td>128</td>\n",
       "      <td>1</td>\n",
       "      <td>1</td>\n",
       "      <td>...</td>\n",
       "      <td>0</td>\n",
       "      <td>1</td>\n",
       "      <td>0</td>\n",
       "      <td>1</td>\n",
       "      <td>0</td>\n",
       "      <td>1</td>\n",
       "      <td>0</td>\n",
       "      <td>1</td>\n",
       "      <td>0</td>\n",
       "      <td>1</td>\n",
       "    </tr>\n",
       "    <tr>\n",
       "      <th>1</th>\n",
       "      <td>648.050</td>\n",
       "      <td>68</td>\n",
       "      <td>0</td>\n",
       "      <td>1</td>\n",
       "      <td>348</td>\n",
       "      <td>345</td>\n",
       "      <td>124</td>\n",
       "      <td>124</td>\n",
       "      <td>1</td>\n",
       "      <td>1</td>\n",
       "      <td>...</td>\n",
       "      <td>0</td>\n",
       "      <td>1</td>\n",
       "      <td>0</td>\n",
       "      <td>1</td>\n",
       "      <td>0</td>\n",
       "      <td>0</td>\n",
       "      <td>0</td>\n",
       "      <td>1</td>\n",
       "      <td>0</td>\n",
       "      <td>1</td>\n",
       "    </tr>\n",
       "    <tr>\n",
       "      <th>2</th>\n",
       "      <td>696.506</td>\n",
       "      <td>68</td>\n",
       "      <td>0</td>\n",
       "      <td>1</td>\n",
       "      <td>353</td>\n",
       "      <td>353</td>\n",
       "      <td>128</td>\n",
       "      <td>125</td>\n",
       "      <td>1</td>\n",
       "      <td>1</td>\n",
       "      <td>...</td>\n",
       "      <td>0</td>\n",
       "      <td>1</td>\n",
       "      <td>0</td>\n",
       "      <td>1</td>\n",
       "      <td>0</td>\n",
       "      <td>0</td>\n",
       "      <td>0</td>\n",
       "      <td>1</td>\n",
       "      <td>0</td>\n",
       "      <td>1</td>\n",
       "    </tr>\n",
       "    <tr>\n",
       "      <th>3</th>\n",
       "      <td>715.926</td>\n",
       "      <td>68</td>\n",
       "      <td>0</td>\n",
       "      <td>0</td>\n",
       "      <td>759</td>\n",
       "      <td>667</td>\n",
       "      <td>250</td>\n",
       "      <td>192</td>\n",
       "      <td>1</td>\n",
       "      <td>1</td>\n",
       "      <td>...</td>\n",
       "      <td>0</td>\n",
       "      <td>1</td>\n",
       "      <td>0</td>\n",
       "      <td>1</td>\n",
       "      <td>0</td>\n",
       "      <td>1</td>\n",
       "      <td>0</td>\n",
       "      <td>1</td>\n",
       "      <td>0</td>\n",
       "      <td>1</td>\n",
       "    </tr>\n",
       "    <tr>\n",
       "      <th>4</th>\n",
       "      <td>707.102</td>\n",
       "      <td>70</td>\n",
       "      <td>10</td>\n",
       "      <td>2</td>\n",
       "      <td>388</td>\n",
       "      <td>373</td>\n",
       "      <td>141</td>\n",
       "      <td>138</td>\n",
       "      <td>1</td>\n",
       "      <td>1</td>\n",
       "      <td>...</td>\n",
       "      <td>0</td>\n",
       "      <td>1</td>\n",
       "      <td>0</td>\n",
       "      <td>1</td>\n",
       "      <td>0</td>\n",
       "      <td>1</td>\n",
       "      <td>0</td>\n",
       "      <td>1</td>\n",
       "      <td>0</td>\n",
       "      <td>1</td>\n",
       "    </tr>\n",
       "  </tbody>\n",
       "</table>\n",
       "<p>5 rows × 21 columns</p>\n",
       "</div>"
      ],
      "text/plain": [
       "   pdfsize  pages  title characters  images  obj  endobj  stream  endstream  \\\n",
       "0  644.326     70                 0       1  348     351     128        128   \n",
       "1  648.050     68                 0       1  348     345     124        124   \n",
       "2  696.506     68                 0       1  353     353     128        125   \n",
       "3  715.926     68                 0       0  759     667     250        192   \n",
       "4  707.102     70                10       2  388     373     141        138   \n",
       "\n",
       "   xref  trailer  ...  ObjStm  JS  OBS_JS  Javascript  OBS_Javascript  \\\n",
       "0     1        1  ...       0   1       0           1               0   \n",
       "1     1        1  ...       0   1       0           1               0   \n",
       "2     1        1  ...       0   1       0           1               0   \n",
       "3     1        1  ...       0   1       0           1               0   \n",
       "4     1        1  ...       0   1       0           1               0   \n",
       "\n",
       "   OpenAction  OBS_OpenAction  Acroform  OBS_Acroform  class  \n",
       "0           1               0         1             0      1  \n",
       "1           0               0         1             0      1  \n",
       "2           0               0         1             0      1  \n",
       "3           1               0         1             0      1  \n",
       "4           1               0         1             0      1  \n",
       "\n",
       "[5 rows x 21 columns]"
      ]
     },
     "execution_count": 4,
     "metadata": {},
     "output_type": "execute_result"
    }
   ],
   "source": [
    "sample = pd.read_csv('sample.csv')\n",
    "print(f\"There are {len(sample)} samples.\")\n",
    "sample.head()"
   ]
  },
  {
   "cell_type": "markdown",
   "metadata": {},
   "source": [
    "### 3.1. Column Datatypes"
   ]
  },
  {
   "cell_type": "code",
   "execution_count": 5,
   "metadata": {},
   "outputs": [
    {
     "name": "stdout",
     "output_type": "stream",
     "text": [
      "<class 'pandas.core.frame.DataFrame'>\n",
      "RangeIndex: 500000 entries, 0 to 499999\n",
      "Data columns (total 21 columns):\n",
      " #   Column            Non-Null Count   Dtype  \n",
      "---  ------            --------------   -----  \n",
      " 0   pdfsize           500000 non-null  float64\n",
      " 1   pages             500000 non-null  int64  \n",
      " 2   title characters  500000 non-null  int64  \n",
      " 3   images            500000 non-null  int64  \n",
      " 4   obj               500000 non-null  int64  \n",
      " 5   endobj            500000 non-null  int64  \n",
      " 6   stream            500000 non-null  int64  \n",
      " 7   endstream         500000 non-null  int64  \n",
      " 8   xref              500000 non-null  int64  \n",
      " 9   trailer           500000 non-null  int64  \n",
      " 10  startxref         500000 non-null  int64  \n",
      " 11  ObjStm            500000 non-null  int64  \n",
      " 12  JS                500000 non-null  int64  \n",
      " 13  OBS_JS            500000 non-null  int64  \n",
      " 14  Javascript        500000 non-null  int64  \n",
      " 15  OBS_Javascript    500000 non-null  int64  \n",
      " 16  OpenAction        500000 non-null  int64  \n",
      " 17  OBS_OpenAction    500000 non-null  int64  \n",
      " 18  Acroform          500000 non-null  int64  \n",
      " 19  OBS_Acroform      500000 non-null  int64  \n",
      " 20  class             500000 non-null  int64  \n",
      "dtypes: float64(1), int64(20)\n",
      "memory usage: 80.1 MB\n"
     ]
    }
   ],
   "source": [
    "sample.info()"
   ]
  },
  {
   "cell_type": "markdown",
   "metadata": {},
   "source": [
    "Seeing the output table, we can check that our dataset is composed by 20 attributes (columns) and it is visible that every column are numerical features ( all `int64` besides the pdfsize attribute's that are represented by `float64`. As we can see above, the dataset does not contain null values."
   ]
  },
  {
   "cell_type": "code",
   "execution_count": 6,
   "metadata": {},
   "outputs": [
    {
     "data": {
      "text/plain": [
       "(500000, 21)"
      ]
     },
     "execution_count": 6,
     "metadata": {},
     "output_type": "execute_result"
    }
   ],
   "source": [
    "sample.shape"
   ]
  },
  {
   "cell_type": "markdown",
   "metadata": {},
   "source": [
    "### 3.2. Data descripton"
   ]
  },
  {
   "cell_type": "code",
   "execution_count": 7,
   "metadata": {},
   "outputs": [
    {
     "data": {
      "text/html": [
       "<div>\n",
       "<style scoped>\n",
       "    .dataframe tbody tr th:only-of-type {\n",
       "        vertical-align: middle;\n",
       "    }\n",
       "\n",
       "    .dataframe tbody tr th {\n",
       "        vertical-align: top;\n",
       "    }\n",
       "\n",
       "    .dataframe thead th {\n",
       "        text-align: right;\n",
       "    }\n",
       "</style>\n",
       "<table border=\"1\" class=\"dataframe\">\n",
       "  <thead>\n",
       "    <tr style=\"text-align: right;\">\n",
       "      <th></th>\n",
       "      <th>pdfsize</th>\n",
       "      <th>pages</th>\n",
       "      <th>title characters</th>\n",
       "      <th>images</th>\n",
       "      <th>obj</th>\n",
       "      <th>endobj</th>\n",
       "      <th>stream</th>\n",
       "      <th>endstream</th>\n",
       "      <th>xref</th>\n",
       "      <th>trailer</th>\n",
       "      <th>...</th>\n",
       "      <th>ObjStm</th>\n",
       "      <th>JS</th>\n",
       "      <th>OBS_JS</th>\n",
       "      <th>Javascript</th>\n",
       "      <th>OBS_Javascript</th>\n",
       "      <th>OpenAction</th>\n",
       "      <th>OBS_OpenAction</th>\n",
       "      <th>Acroform</th>\n",
       "      <th>OBS_Acroform</th>\n",
       "      <th>class</th>\n",
       "    </tr>\n",
       "  </thead>\n",
       "  <tbody>\n",
       "    <tr>\n",
       "      <th>count</th>\n",
       "      <td>500000.000000</td>\n",
       "      <td>500000.000000</td>\n",
       "      <td>500000.000000</td>\n",
       "      <td>500000.000000</td>\n",
       "      <td>500000.000000</td>\n",
       "      <td>500000.000000</td>\n",
       "      <td>500000.000000</td>\n",
       "      <td>500000.000000</td>\n",
       "      <td>500000.000000</td>\n",
       "      <td>500000.000000</td>\n",
       "      <td>...</td>\n",
       "      <td>500000.000000</td>\n",
       "      <td>500000.000000</td>\n",
       "      <td>500000.0</td>\n",
       "      <td>500000.000000</td>\n",
       "      <td>500000.0</td>\n",
       "      <td>500000.000000</td>\n",
       "      <td>500000.0</td>\n",
       "      <td>500000.000000</td>\n",
       "      <td>500000.0</td>\n",
       "      <td>500000.0</td>\n",
       "    </tr>\n",
       "    <tr>\n",
       "      <th>mean</th>\n",
       "      <td>563.363772</td>\n",
       "      <td>55.101686</td>\n",
       "      <td>5.617004</td>\n",
       "      <td>1.041594</td>\n",
       "      <td>273.595072</td>\n",
       "      <td>273.472290</td>\n",
       "      <td>95.115512</td>\n",
       "      <td>95.331500</td>\n",
       "      <td>0.969714</td>\n",
       "      <td>1.001358</td>\n",
       "      <td>...</td>\n",
       "      <td>0.008572</td>\n",
       "      <td>0.873134</td>\n",
       "      <td>0.0</td>\n",
       "      <td>0.795662</td>\n",
       "      <td>0.0</td>\n",
       "      <td>0.436600</td>\n",
       "      <td>0.0</td>\n",
       "      <td>0.887564</td>\n",
       "      <td>0.0</td>\n",
       "      <td>0.9</td>\n",
       "    </tr>\n",
       "    <tr>\n",
       "      <th>std</th>\n",
       "      <td>280.213763</td>\n",
       "      <td>30.233062</td>\n",
       "      <td>6.501397</td>\n",
       "      <td>0.734654</td>\n",
       "      <td>142.333280</td>\n",
       "      <td>142.734185</td>\n",
       "      <td>51.683914</td>\n",
       "      <td>52.094421</td>\n",
       "      <td>0.263349</td>\n",
       "      <td>0.244811</td>\n",
       "      <td>...</td>\n",
       "      <td>0.198168</td>\n",
       "      <td>0.547981</td>\n",
       "      <td>0.0</td>\n",
       "      <td>0.416932</td>\n",
       "      <td>0.0</td>\n",
       "      <td>0.495965</td>\n",
       "      <td>0.0</td>\n",
       "      <td>0.519314</td>\n",
       "      <td>0.0</td>\n",
       "      <td>0.3</td>\n",
       "    </tr>\n",
       "    <tr>\n",
       "      <th>min</th>\n",
       "      <td>0.000000</td>\n",
       "      <td>0.000000</td>\n",
       "      <td>0.000000</td>\n",
       "      <td>0.000000</td>\n",
       "      <td>0.000000</td>\n",
       "      <td>0.000000</td>\n",
       "      <td>0.000000</td>\n",
       "      <td>0.000000</td>\n",
       "      <td>0.000000</td>\n",
       "      <td>0.000000</td>\n",
       "      <td>...</td>\n",
       "      <td>0.000000</td>\n",
       "      <td>0.000000</td>\n",
       "      <td>0.0</td>\n",
       "      <td>0.000000</td>\n",
       "      <td>0.0</td>\n",
       "      <td>0.000000</td>\n",
       "      <td>0.0</td>\n",
       "      <td>0.000000</td>\n",
       "      <td>0.0</td>\n",
       "      <td>0.0</td>\n",
       "    </tr>\n",
       "    <tr>\n",
       "      <th>25%</th>\n",
       "      <td>585.864250</td>\n",
       "      <td>67.000000</td>\n",
       "      <td>0.000000</td>\n",
       "      <td>1.000000</td>\n",
       "      <td>266.000000</td>\n",
       "      <td>266.000000</td>\n",
       "      <td>85.000000</td>\n",
       "      <td>87.000000</td>\n",
       "      <td>1.000000</td>\n",
       "      <td>1.000000</td>\n",
       "      <td>...</td>\n",
       "      <td>0.000000</td>\n",
       "      <td>1.000000</td>\n",
       "      <td>0.0</td>\n",
       "      <td>1.000000</td>\n",
       "      <td>0.0</td>\n",
       "      <td>0.000000</td>\n",
       "      <td>0.0</td>\n",
       "      <td>1.000000</td>\n",
       "      <td>0.0</td>\n",
       "      <td>1.0</td>\n",
       "    </tr>\n",
       "    <tr>\n",
       "      <th>50%</th>\n",
       "      <td>657.841000</td>\n",
       "      <td>68.000000</td>\n",
       "      <td>4.000000</td>\n",
       "      <td>1.000000</td>\n",
       "      <td>346.000000</td>\n",
       "      <td>345.000000</td>\n",
       "      <td>123.000000</td>\n",
       "      <td>122.000000</td>\n",
       "      <td>1.000000</td>\n",
       "      <td>1.000000</td>\n",
       "      <td>...</td>\n",
       "      <td>0.000000</td>\n",
       "      <td>1.000000</td>\n",
       "      <td>0.0</td>\n",
       "      <td>1.000000</td>\n",
       "      <td>0.0</td>\n",
       "      <td>0.000000</td>\n",
       "      <td>0.0</td>\n",
       "      <td>1.000000</td>\n",
       "      <td>0.0</td>\n",
       "      <td>1.0</td>\n",
       "    </tr>\n",
       "    <tr>\n",
       "      <th>75%</th>\n",
       "      <td>708.503250</td>\n",
       "      <td>69.000000</td>\n",
       "      <td>9.000000</td>\n",
       "      <td>2.000000</td>\n",
       "      <td>355.000000</td>\n",
       "      <td>354.000000</td>\n",
       "      <td>126.000000</td>\n",
       "      <td>126.000000</td>\n",
       "      <td>1.000000</td>\n",
       "      <td>1.000000</td>\n",
       "      <td>...</td>\n",
       "      <td>0.000000</td>\n",
       "      <td>1.000000</td>\n",
       "      <td>0.0</td>\n",
       "      <td>1.000000</td>\n",
       "      <td>0.0</td>\n",
       "      <td>1.000000</td>\n",
       "      <td>0.0</td>\n",
       "      <td>1.000000</td>\n",
       "      <td>0.0</td>\n",
       "      <td>1.0</td>\n",
       "    </tr>\n",
       "    <tr>\n",
       "      <th>max</th>\n",
       "      <td>1761.042000</td>\n",
       "      <td>287.000000</td>\n",
       "      <td>267.000000</td>\n",
       "      <td>18.000000</td>\n",
       "      <td>760.000000</td>\n",
       "      <td>760.000000</td>\n",
       "      <td>254.000000</td>\n",
       "      <td>254.000000</td>\n",
       "      <td>3.000000</td>\n",
       "      <td>3.000000</td>\n",
       "      <td>...</td>\n",
       "      <td>15.000000</td>\n",
       "      <td>3.000000</td>\n",
       "      <td>0.0</td>\n",
       "      <td>5.000000</td>\n",
       "      <td>0.0</td>\n",
       "      <td>1.000000</td>\n",
       "      <td>0.0</td>\n",
       "      <td>2.000000</td>\n",
       "      <td>0.0</td>\n",
       "      <td>1.0</td>\n",
       "    </tr>\n",
       "  </tbody>\n",
       "</table>\n",
       "<p>8 rows × 21 columns</p>\n",
       "</div>"
      ],
      "text/plain": [
       "             pdfsize          pages  title characters         images  \\\n",
       "count  500000.000000  500000.000000     500000.000000  500000.000000   \n",
       "mean      563.363772      55.101686          5.617004       1.041594   \n",
       "std       280.213763      30.233062          6.501397       0.734654   \n",
       "min         0.000000       0.000000          0.000000       0.000000   \n",
       "25%       585.864250      67.000000          0.000000       1.000000   \n",
       "50%       657.841000      68.000000          4.000000       1.000000   \n",
       "75%       708.503250      69.000000          9.000000       2.000000   \n",
       "max      1761.042000     287.000000        267.000000      18.000000   \n",
       "\n",
       "                 obj         endobj         stream      endstream  \\\n",
       "count  500000.000000  500000.000000  500000.000000  500000.000000   \n",
       "mean      273.595072     273.472290      95.115512      95.331500   \n",
       "std       142.333280     142.734185      51.683914      52.094421   \n",
       "min         0.000000       0.000000       0.000000       0.000000   \n",
       "25%       266.000000     266.000000      85.000000      87.000000   \n",
       "50%       346.000000     345.000000     123.000000     122.000000   \n",
       "75%       355.000000     354.000000     126.000000     126.000000   \n",
       "max       760.000000     760.000000     254.000000     254.000000   \n",
       "\n",
       "                xref        trailer  ...         ObjStm             JS  \\\n",
       "count  500000.000000  500000.000000  ...  500000.000000  500000.000000   \n",
       "mean        0.969714       1.001358  ...       0.008572       0.873134   \n",
       "std         0.263349       0.244811  ...       0.198168       0.547981   \n",
       "min         0.000000       0.000000  ...       0.000000       0.000000   \n",
       "25%         1.000000       1.000000  ...       0.000000       1.000000   \n",
       "50%         1.000000       1.000000  ...       0.000000       1.000000   \n",
       "75%         1.000000       1.000000  ...       0.000000       1.000000   \n",
       "max         3.000000       3.000000  ...      15.000000       3.000000   \n",
       "\n",
       "         OBS_JS     Javascript  OBS_Javascript     OpenAction  OBS_OpenAction  \\\n",
       "count  500000.0  500000.000000        500000.0  500000.000000        500000.0   \n",
       "mean        0.0       0.795662             0.0       0.436600             0.0   \n",
       "std         0.0       0.416932             0.0       0.495965             0.0   \n",
       "min         0.0       0.000000             0.0       0.000000             0.0   \n",
       "25%         0.0       1.000000             0.0       0.000000             0.0   \n",
       "50%         0.0       1.000000             0.0       0.000000             0.0   \n",
       "75%         0.0       1.000000             0.0       1.000000             0.0   \n",
       "max         0.0       5.000000             0.0       1.000000             0.0   \n",
       "\n",
       "            Acroform  OBS_Acroform     class  \n",
       "count  500000.000000      500000.0  500000.0  \n",
       "mean        0.887564           0.0       0.9  \n",
       "std         0.519314           0.0       0.3  \n",
       "min         0.000000           0.0       0.0  \n",
       "25%         1.000000           0.0       1.0  \n",
       "50%         1.000000           0.0       1.0  \n",
       "75%         1.000000           0.0       1.0  \n",
       "max         2.000000           0.0       1.0  \n",
       "\n",
       "[8 rows x 21 columns]"
      ]
     },
     "execution_count": 7,
     "metadata": {},
     "output_type": "execute_result"
    }
   ],
   "source": [
    "sample.describe()"
   ]
  },
  {
   "cell_type": "markdown",
   "metadata": {},
   "source": [
    "- The **count** row shows the number of non-null entries in each column of the dataset.\n",
    "- The **mean** rows the average value of each column.\n",
    "- The **std** shows the standard deviation of each column, displaying how much the values deviate from the mean.\n",
    "- The **25%**, **50%** and **75%** rows show the first quartile, the median quartile and the third quartile values for each column.\n",
    "- The **min** and **max** rows show the minimum and maximum values in each column."
   ]
  },
  {
   "cell_type": "code",
   "execution_count": 8,
   "metadata": {},
   "outputs": [
    {
     "data": {
      "text/plain": [
       "class\n",
       "1    450000\n",
       "0     50000\n",
       "Name: count, dtype: int64"
      ]
     },
     "execution_count": 8,
     "metadata": {},
     "output_type": "execute_result"
    }
   ],
   "source": [
    "sample['class'].value_counts()"
   ]
  },
  {
   "cell_type": "code",
   "execution_count": 9,
   "metadata": {},
   "outputs": [
    {
     "name": "stderr",
     "output_type": "stream",
     "text": [
      "/var/folders/0_/_8ntzlm570v_s7fd44s105yc0000gn/T/ipykernel_7409/107236906.py:3: FutureWarning: \n",
      "\n",
      "Passing `palette` without assigning `hue` is deprecated and will be removed in v0.14.0. Assign the `x` variable to `hue` and set `legend=False` for the same effect.\n",
      "\n",
      "  sb.countplot(x='class', data=sample, palette='hls')\n"
     ]
    },
    {
     "data": {
      "image/png": "[encoded data removed]",
      "text/plain": [
       "<Figure size 640x480 with 1 Axes>"
      ]
     },
     "metadata": {},
     "output_type": "display_data"
    }
   ],
   "source": [
    "#create me a bar chart of the class column\n",
    "\n",
    "sb.countplot(x='class', data=sample, palette='hls')\n",
    "plt.show()"
   ]
  },
  {
   "cell_type": "markdown",
   "metadata": {},
   "source": [
    "# 4. Data preprocessing "
   ]
  },
  {
   "cell_type": "markdown",
   "metadata": {},
   "source": [
    "We will need to preprocess the dataset received in order to model it."
   ]
  },
  {
   "cell_type": "code",
   "execution_count": null,
   "metadata": {},
   "outputs": [],
   "source": [
    "datasets = {} # dictionary to store the pre-processing datasets"
   ]
  },
  {
   "cell_type": "markdown",
   "metadata": {},
   "source": [
    "Below, we can see that our dataset is unbalenced because there is a significant difference between the values of the binary feature ('class' column). There are 50000 0's (or no's) and 450000 1's (or yes's). <br />\n",
    "To balance our dataset, we will use **Synthetic Minority Over-sampling Technique (SMOTE)** for oversampling and **RandomUnderSampler** for undersampling."
   ]
  },
  {
   "cell_type": "code",
   "execution_count": 11,
   "metadata": {},
   "outputs": [
    {
     "name": "stdout",
     "output_type": "stream",
     "text": [
      "Values of the feature column ('class')\n"
     ]
    },
    {
     "data": {
      "text/plain": [
       "class\n",
       "1    450000\n",
       "0     50000\n",
       "Name: count, dtype: int64"
      ]
     },
     "execution_count": 11,
     "metadata": {},
     "output_type": "execute_result"
    }
   ],
   "source": [
    "print(\"Values of the feature column ('class')\")\n",
    "sample['class'].value_counts()"
   ]
  },
  {
   "cell_type": "markdown",
   "metadata": {},
   "source": [
    "### 4.1. Undersampling "
   ]
  },
  {
   "cell_type": "code",
   "execution_count": 16,
   "metadata": {},
   "outputs": [
    {
     "name": "stdout",
     "output_type": "stream",
     "text": [
      "Values of the feature column ('class') after undersampling\n"
     ]
    },
    {
     "data": {
      "text/plain": [
       "class\n",
       "0    50000\n",
       "1    50000\n",
       "Name: count, dtype: int64"
      ]
     },
     "execution_count": 16,
     "metadata": {},
     "output_type": "execute_result"
    }
   ],
   "source": [
    "from imblearn.under_sampling import RandomUnderSampler\n",
    "rus = RandomUnderSampler(random_state=42)\n",
    "X = sample.drop('class', axis=1)\n",
    "y = sample['class']\n",
    "X_res_undersampling, y_res_undersampling = rus.fit_resample(X, y)\n",
    "print(\"Values of the feature column ('class') after undersampling\")\n",
    "y_res_undersampling.value_counts()"
   ]
  },
  {
   "cell_type": "markdown",
   "metadata": {},
   "source": [
    "As you can see in the result output, we now have an undersampled balanced dataset because we have similar numbers of no's and yes's (0's and 1's, respectively). "
   ]
  },
  {
   "cell_type": "markdown",
   "metadata": {},
   "source": [
    "### 4.2. Oversampling"
   ]
  },
  {
   "cell_type": "code",
   "execution_count": 22,
   "metadata": {},
   "outputs": [
    {
     "name": "stdout",
     "output_type": "stream",
     "text": [
      "Values of the feature column ('class') after oversampling\n"
     ]
    },
    {
     "data": {
      "text/plain": [
       "class\n",
       "1    450000\n",
       "0    450000\n",
       "Name: count, dtype: int64"
      ]
     },
     "execution_count": 22,
     "metadata": {},
     "output_type": "execute_result"
    }
   ],
   "source": [
    "from imblearn.over_sampling import SMOTE\n",
    "smote = SMOTE(random_state=42)\n",
    "X_res_overslampling, y_res_oversampling = smote.fit_resample(X, y)\n",
    "print(\"Values of the feature column ('class') after oversampling\")\n",
    "y_res_oversampling.value_counts()\n"
   ]
  },
  {
   "cell_type": "markdown",
   "metadata": {},
   "source": [
    "As you can see in the result output, we now have an oversampled balanced dataset because we have similar numbers of no's and yes's (0's and 1's, respectively). "
   ]
  }
 ],
 "metadata": {
  "kernelspec": {
   "display_name": "Python 3",
   "language": "python",
   "name": "python3"
  },
  "language_info": {
   "codemirror_mode": {
    "name": "ipython",
    "version": 3
   },
   "file_extension": ".py",
   "mimetype": "text/x-python",
   "name": "python",
   "nbconvert_exporter": "python",
   "pygments_lexer": "ipython3",
   "version": "3.12.0"
  }
 },
 "nbformat": 4,
 "nbformat_minor": 4
}
